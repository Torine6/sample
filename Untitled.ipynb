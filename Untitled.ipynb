{
 "cells": [
  {
   "cell_type": "code",
   "execution_count": 1,
   "id": "15cef4d2-9f6f-4a57-8249-fbab4f1f154b",
   "metadata": {},
   "outputs": [],
   "source": [
    "import pandas as pd"
   ]
  },
  {
   "cell_type": "code",
   "execution_count": 3,
   "id": "824e7da9-36d3-4ec8-94d9-54d8ab73ec4f",
   "metadata": {},
   "outputs": [],
   "source": [
    "df = pd.DataFrame(pd.read_excel('Tribes sample (1).xlsx'))"
   ]
  },
  {
   "cell_type": "code",
   "execution_count": 5,
   "id": "ae650be8-5734-4ca6-b08d-2c1edc624eba",
   "metadata": {},
   "outputs": [
    {
     "data": {
      "text/html": [
       "<div>\n",
       "<style scoped>\n",
       "    .dataframe tbody tr th:only-of-type {\n",
       "        vertical-align: middle;\n",
       "    }\n",
       "\n",
       "    .dataframe tbody tr th {\n",
       "        vertical-align: top;\n",
       "    }\n",
       "\n",
       "    .dataframe thead th {\n",
       "        text-align: right;\n",
       "    }\n",
       "</style>\n",
       "<table border=\"1\" class=\"dataframe\">\n",
       "  <thead>\n",
       "    <tr style=\"text-align: right;\">\n",
       "      <th></th>\n",
       "      <th>Name</th>\n",
       "      <th>Tribe</th>\n",
       "    </tr>\n",
       "  </thead>\n",
       "  <tbody>\n",
       "    <tr>\n",
       "      <th>0</th>\n",
       "      <td>Melvin Kiprotich</td>\n",
       "      <td>Kalenjin</td>\n",
       "    </tr>\n",
       "    <tr>\n",
       "      <th>1</th>\n",
       "      <td>Grace Wafula</td>\n",
       "      <td>Luhya</td>\n",
       "    </tr>\n",
       "    <tr>\n",
       "      <th>2</th>\n",
       "      <td>Pretty Kimani Oloo</td>\n",
       "      <td>NaN</td>\n",
       "    </tr>\n",
       "    <tr>\n",
       "      <th>3</th>\n",
       "      <td>Winnie Muthee</td>\n",
       "      <td>Kamba</td>\n",
       "    </tr>\n",
       "    <tr>\n",
       "      <th>4</th>\n",
       "      <td>Juliet Kerubo</td>\n",
       "      <td>Kisii</td>\n",
       "    </tr>\n",
       "    <tr>\n",
       "      <th>5</th>\n",
       "      <td>Florence Lenana</td>\n",
       "      <td>Maasai</td>\n",
       "    </tr>\n",
       "    <tr>\n",
       "      <th>6</th>\n",
       "      <td>Kelvin Otieno</td>\n",
       "      <td>NaN</td>\n",
       "    </tr>\n",
       "    <tr>\n",
       "      <th>7</th>\n",
       "      <td>Cynthia Kareko</td>\n",
       "      <td>Meru</td>\n",
       "    </tr>\n",
       "    <tr>\n",
       "      <th>8</th>\n",
       "      <td>Samuel Kimani</td>\n",
       "      <td>Kikuyu</td>\n",
       "    </tr>\n",
       "    <tr>\n",
       "      <th>9</th>\n",
       "      <td>Evans Wakalo</td>\n",
       "      <td>Taita</td>\n",
       "    </tr>\n",
       "    <tr>\n",
       "      <th>10</th>\n",
       "      <td>Steve Wafula</td>\n",
       "      <td>NaN</td>\n",
       "    </tr>\n",
       "    <tr>\n",
       "      <th>11</th>\n",
       "      <td>Marcia Otieno</td>\n",
       "      <td>Luo</td>\n",
       "    </tr>\n",
       "  </tbody>\n",
       "</table>\n",
       "</div>"
      ],
      "text/plain": [
       "                  Name     Tribe\n",
       "0     Melvin Kiprotich  Kalenjin\n",
       "1         Grace Wafula     Luhya\n",
       "2   Pretty Kimani Oloo       NaN\n",
       "3        Winnie Muthee     Kamba\n",
       "4        Juliet Kerubo     Kisii\n",
       "5      Florence Lenana    Maasai\n",
       "6        Kelvin Otieno       NaN\n",
       "7       Cynthia Kareko      Meru\n",
       "8        Samuel Kimani    Kikuyu\n",
       "9         Evans Wakalo     Taita\n",
       "10        Steve Wafula       NaN\n",
       "11       Marcia Otieno       Luo"
      ]
     },
     "execution_count": 5,
     "metadata": {},
     "output_type": "execute_result"
    }
   ],
   "source": [
    "df"
   ]
  },
  {
   "cell_type": "markdown",
   "id": "71f2296d-a735-45ce-9451-740d667a1706",
   "metadata": {},
   "source": [
    "For similar last names, we fill the missing values based on matched last names. For people with three names, we use the middle name as the surname."
   ]
  },
  {
   "cell_type": "code",
   "execution_count": 8,
   "id": "9803840c-bbe1-468d-a91d-0e73c734a443",
   "metadata": {},
   "outputs": [
    {
     "name": "stdout",
     "output_type": "stream",
     "text": [
      "                  Name     Tribe\n",
      "0     Melvin Kiprotich  Kalenjin\n",
      "1         Grace Wafula     Luhya\n",
      "2   Pretty Kimani Oloo    Kikuyu\n",
      "3        Winnie Muthee     Kamba\n",
      "4        Juliet Kerubo     Kisii\n",
      "5      Florence Lenana    Maasai\n",
      "6        Kelvin Otieno       Luo\n",
      "7       Cynthia Kareko      Meru\n",
      "8        Samuel Kimani    Kikuyu\n",
      "9         Evans Wakalo     Taita\n",
      "10        Steve Wafula     Luhya\n",
      "11       Marcia Otieno       Luo\n"
     ]
    }
   ],
   "source": [
    "# Function to extract middle and last names\n",
    "def extract_middle_and_last_names(name):\n",
    "    parts = name.split()\n",
    "    if len(parts) == 2:\n",
    "        return parts[1], parts[1]  # Use the second part as both middle and last name for 2-part names\n",
    "    elif len(parts) > 2:\n",
    "        return parts[1], parts[-1]  # Use the second part as the middle name and the last part as the last name\n",
    "\n",
    "# Extract middle and last names\n",
    "df['middle_name'], df['last_name'] = zip(*df['Name'].apply(extract_middle_and_last_names))\n",
    "\n",
    "# Create a mapping of last names to tribes\n",
    "last_name_tribe_mapping = df.dropna(subset=['Tribe']).groupby('last_name')['Tribe'].agg(lambda x: x.mode()[0] if not x.mode().empty else None).to_dict()\n",
    "\n",
    "# Function to fill missing tribe based on middle name matching last names\n",
    "def impute_tribe(row, last_name_mapping):\n",
    "    if pd.isnull(row['Tribe']):\n",
    "        middle_name = row['middle_name']\n",
    "        if middle_name in last_name_mapping:\n",
    "            return last_name_mapping[middle_name]\n",
    "    return row['Tribe']\n",
    "\n",
    "# Apply the imputation function using the mapping\n",
    "df['Tribe'] = df.apply(lambda row: impute_tribe(row, last_name_tribe_mapping), axis=1)\n",
    "\n",
    "# Drop unnecessary columns\n",
    "df.drop(columns=['middle_name', 'last_name'], inplace=True)\n",
    "\n",
    "print(df)"
   ]
  }
 ],
 "metadata": {
  "kernelspec": {
   "display_name": "Python 3 (ipykernel)",
   "language": "python",
   "name": "python3"
  },
  "language_info": {
   "codemirror_mode": {
    "name": "ipython",
    "version": 3
   },
   "file_extension": ".py",
   "mimetype": "text/x-python",
   "name": "python",
   "nbconvert_exporter": "python",
   "pygments_lexer": "ipython3",
   "version": "3.11.7"
  }
 },
 "nbformat": 4,
 "nbformat_minor": 5
}
